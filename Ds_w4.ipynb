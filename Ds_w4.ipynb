{
 "cells": [
  {
   "cell_type": "markdown",
   "id": "37bcc227",
   "metadata": {},
   "source": [
    "# 1. LeetCode 225. Implement Stack using Queues\n",
    "\n",
    "## 문제 설명\n",
    "Queue 두 개를 사용해 Stack을 구현하라. 다음 메서드를 정의해야 한다:\n",
    "- push(x)\n",
    "- pop()\n",
    "- top()\n",
    "- empty()"
   ]
  },
  {
   "cell_type": "code",
   "execution_count": null,
   "id": "5c168588",
   "metadata": {},
   "outputs": [],
   "source": [
    "from collections import deque\n",
    "\n",
    "class MyStack:\n",
    "    def __init__(self):\n",
    "        self.q1 = deque()\n",
    "        self.q2 = deque()\n",
    "\n",
    "    def push(self, x):\n",
    "        self.q2.append(x)\n",
    "        while self.q1:\n",
    "            self.q2.append(self.q1.popleft())\n",
    "        self.q1, self.q2 = self.q2, self.q1\n",
    "\n",
    "    def pop(self):\n",
    "        return self.q1.popleft()\n",
    "\n",
    "    def top(self):\n",
    "        return self.q1[0]\n",
    "\n",
    "    def empty(self):\n",
    "        return not self.q1"
   ]
  },
  {
   "cell_type": "markdown",
   "id": "c7466cd4",
   "metadata": {},
   "source": [
    "## 해설\n",
    "- push 시에는 새 값을 먼저 넣고 기존 값을 뒤로 밀어냄\n",
    "- pop, top, empty는 모두 q1 기준으로 처리\n",
    "- 시간 복잡도:\n",
    "  - push: O(n)\n",
    "  - pop, top, empty: O(1)"
   ]
  },
  {
   "cell_type": "markdown",
   "id": "dc8bd10b",
   "metadata": {},
   "source": [
    "# 2. LeetCode 232. Implement Queue using Stacks\n",
    "\n",
    "## 문제 설명\n",
    "Stack 두 개를 사용해 Queue를 구현하라. 다음 메서드를 정의해야 한다:\n",
    "- push(x)\n",
    "- pop()\n",
    "- peek()\n",
    "- empty()"
   ]
  },
  {
   "cell_type": "code",
   "execution_count": null,
   "id": "4a609c79",
   "metadata": {},
   "outputs": [],
   "source": [
    "class MyQueue:\n",
    "    def __init__(self):\n",
    "        self.in_stack = []\n",
    "        self.out_stack = []\n",
    "\n",
    "    def push(self, x):\n",
    "        self.in_stack.append(x)\n",
    "\n",
    "    def pop(self):\n",
    "        self._move()\n",
    "        return self.out_stack.pop()\n",
    "\n",
    "    def peek(self):\n",
    "        self._move()\n",
    "        return self.out_stack[-1]\n",
    "\n",
    "    def empty(self):\n",
    "        return not self.in_stack and not self.out_stack\n",
    "\n",
    "    def _move(self):\n",
    "        if not self.out_stack:\n",
    "            while self.in_stack:\n",
    "                self.out_stack.append(self.in_stack.pop())"
   ]
  },
  {
   "cell_type": "markdown",
   "id": "7a3280e1",
   "metadata": {},
   "source": [
    "## 해설\n",
    "- in_stack에 push, pop이나 peek 시 out_stack으로 옮겨 순서 반전\n",
    "- 한 번 옮긴 요소는 out_stack에 남아 있으므로 amortized O(1)"
   ]
  },
  {
   "cell_type": "markdown",
   "id": "33c681b7",
   "metadata": {},
   "source": [
    "# 3. 교재 큐 연습문제\n",
    "\n",
    "## 연습문제 01\n",
    "리스트의 맨 끝을 front로 간주하는 방식으로 바꿔서 ListQueue를 구현하시오."
   ]
  },
  {
   "cell_type": "code",
   "execution_count": null,
   "id": "702fbc5e",
   "metadata": {},
   "outputs": [],
   "source": [
    "class ListQueue:\n",
    "    def __init__(self):\n",
    "        self.__queue = []\n",
    "\n",
    "    def enqueue(self, x):\n",
    "        self.__queue.insert(0, x)  # 앞에 삽입\n",
    "\n",
    "    def dequeue(self):\n",
    "        return self.__queue.pop()  # 뒤에서 제거\n",
    "\n",
    "    def front(self):\n",
    "        return self.__queue[-1]\n",
    "\n",
    "    def isEmpty(self):\n",
    "        return len(self.__queue) == 0\n",
    "\n",
    "    def dequeueAll(self):\n",
    "        self.__queue.clear()"
   ]
  },
  {
   "cell_type": "markdown",
   "id": "6776a439",
   "metadata": {},
   "source": [
    "## 연습문제 02\n",
    "입력 문자열이 집합의 원소인지 큐를 사용해 확인하는 코드 작성"
   ]
  },
  {
   "cell_type": "code",
   "execution_count": null,
   "id": "0d354a75",
   "metadata": {},
   "outputs": [],
   "source": [
    "def is_member_with_queue(s, charset):\n",
    "    from collections import deque\n",
    "    q = deque(s)\n",
    "    while q:\n",
    "        if q.popleft() not in charset:\n",
    "            return False\n",
    "    return True\n",
    "\n",
    "# 예시\n",
    "charset = {'w', 's'}\n",
    "print(is_member_with_queue(\"wsw\", charset))  # True\n",
    "print(is_member_with_queue(\"wiw\", charset))  # False"
   ]
  },
  {
   "cell_type": "markdown",
   "id": "c0634c18",
   "metadata": {},
   "source": [
    "## 연습문제 03\n",
    "LinkedQueue 타입의 객체 a의 내용을 또 다른 LinkedQueue 타입의 객체 b로 복사하는 코드 작성"
   ]
  },
  {
   "cell_type": "code",
   "execution_count": null,
   "id": "414bf244",
   "metadata": {},
   "outputs": [],
   "source": [
    "def copy_queue(a):\n",
    "    from collections import deque\n",
    "    b = deque()\n",
    "    temp = deque()\n",
    "    \n",
    "    while a:\n",
    "        item = a.popleft()\n",
    "        b.append(item)\n",
    "        temp.append(item)\n",
    "    \n",
    "    while temp:\n",
    "        a.append(temp.popleft())\n",
    "    \n",
    "    return b\n",
    "\n",
    "# 예시\n",
    "a = deque([1, 2, 3])\n",
    "b = copy_queue(a)\n",
    "print(\"a:\", list(a))\n",
    "print(\"b:\", list(b))"
   ]
  },
  {
   "cell_type": "markdown",
   "id": "259938ec",
   "metadata": {},
   "source": [
    "## 연습문제 04\n",
    "2개의 큐를 사용하여 스택 push()와 pop() 알고리즘 구현"
   ]
  },
  {
   "cell_type": "code",
   "execution_count": null,
   "id": "35bc3b02",
   "metadata": {},
   "outputs": [],
   "source": [
    "from collections import deque\n",
    "\n",
    "class StackWithQueues:\n",
    "    def __init__(self):\n",
    "        self.q1 = deque()\n",
    "        self.q2 = deque()\n",
    "\n",
    "    def push(self, x):\n",
    "        self.q2.append(x)\n",
    "        while self.q1:\n",
    "            self.q2.append(self.q1.popleft())\n",
    "        self.q1, self.q2 = self.q2, self.q1\n",
    "\n",
    "    def pop(self):\n",
    "        return self.q1.popleft()\n",
    "\n",
    "# 예시\n",
    "s = StackWithQueues()\n",
    "s.push(1)\n",
    "s.push(2)\n",
    "print(s.pop())  # 2"
   ]
  },
  {
   "cell_type": "markdown",
   "id": "012647bf",
   "metadata": {},
   "source": [
    "## 연습문제 05\n",
    "2개의 스택을 사용하여 큐 enqueue()와 dequeue() 알고리즘 구현"
   ]
  },
  {
   "cell_type": "code",
   "execution_count": null,
   "id": "57a25e72",
   "metadata": {},
   "outputs": [],
   "source": [
    "class QueueWithStacks:\n",
    "    def __init__(self):\n",
    "        self.inbox = []\n",
    "        self.outbox = []\n",
    "\n",
    "    def enqueue(self, x):\n",
    "        self.inbox.append(x)\n",
    "\n",
    "    def dequeue(self):\n",
    "        if not self.outbox:\n",
    "            while self.inbox:\n",
    "                self.outbox.append(self.inbox.pop())\n",
    "        return self.outbox.pop()\n",
    "\n",
    "# 예시\n",
    "q = QueueWithStacks()\n",
    "q.enqueue(1)\n",
    "q.enqueue(2)\n",
    "print(q.dequeue())  # 1"
   ]
  },
  {
   "cell_type": "markdown",
   "id": "1d3f7800",
   "metadata": {},
   "source": [
    "## 연습문제 06\n",
    "큐의 사이즈가 n일 때 enqueue와 dequeue의 수행 시간은?\n",
    "\n",
    "- **enqueue()**: 리스트 맨 뒤에 삽입 → O(1)\n",
    "- **dequeue()**: 리스트 맨 앞에서 삭제 (`pop(0)`) → O(n)\n",
    "\n",
    "> 따라서 효율적인 큐를 위해 양방향 연결 리스트 또는 deque 사용이 권장됨"
   ]
  },
  {
   "cell_type": "markdown",
   "id": "a278f9d9",
   "metadata": {},
   "source": [
    "## 연습문제 07\n",
    "연결 리스트 기반(LinkedListBasic)으로 구현할 경우:\n",
    "- **enqueue()**: 맨 뒤 삽입 → O(1)\n",
    "- **dequeue()**: 맨 앞 삭제 → O(1)\n",
    "\n",
    "> 양방향 연결 리스트 구조를 사용하면 양쪽 모두에서 효율적으로 삽입/삭제 가능"
   ]
  },
  {
   "cell_type": "markdown",
   "id": "f41fa35e",
   "metadata": {},
   "source": [
    "## 연습문제 08\n",
    "ListQueue 클래스를 Deque 형태로 확장"
   ]
  },
  {
   "cell_type": "code",
   "execution_count": null,
   "id": "9fc02921",
   "metadata": {},
   "outputs": [],
   "source": [
    "class Deque:\n",
    "    def __init__(self):\n",
    "        self.__queue = []\n",
    "\n",
    "    def enqueueFront(self, x):\n",
    "        self.__queue.insert(0, x)\n",
    "\n",
    "    def enqueueRear(self, x):\n",
    "        self.__queue.append(x)\n",
    "\n",
    "    def dequeueFront(self):\n",
    "        return self.__queue.pop(0) if not self.isEmpty() else None\n",
    "\n",
    "    def dequeueRear(self):\n",
    "        return self.__queue.pop() if not self.isEmpty() else None\n",
    "\n",
    "    def isEmpty(self):\n",
    "        return len(self.__queue) == 0\n",
    "\n",
    "    def front(self):\n",
    "        return self.__queue[0] if not self.isEmpty() else None\n",
    "\n",
    "    def rear(self):\n",
    "        return self.__queue[-1] if not self.isEmpty() else None\n",
    "\n",
    "    def dequeueAll(self):\n",
    "        self.__queue.clear()\n",
    "\n",
    "    def printQueue(self):\n",
    "        print(\"Queue from front:\", end=\" \")\n",
    "        for item in self.__queue:\n",
    "            print(item, end=\" \")\n",
    "        print()\n",
    "\n",
    "# 예시\n",
    "d = Deque()\n",
    "d.enqueueRear(1)\n",
    "d.enqueueFront(2)\n",
    "d.enqueueRear(3)\n",
    "d.printQueue()\n",
    "print(\"Front:\", d.dequeueFront())\n",
    "print(\"Rear:\", d.dequeueRear())"
   ]
  }
 ],
 "metadata": {},
 "nbformat": 4,
 "nbformat_minor": 5
}
