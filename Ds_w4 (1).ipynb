{
 "cells": [
  {
   "cell_type": "markdown",
   "id": "7d59febc",
   "metadata": {},
   "source": [
    "# 1. LeetCode 225. Implement Stack using Queues"
   ]
  },
  {
   "cell_type": "code",
   "execution_count": null,
   "id": "9d82c9bd",
   "metadata": {},
   "outputs": [],
   "source": [
    "class MyStack:\n",
    "    def __init__(self):\n",
    "        self.q1 = collections.deque()\n",
    "        self.q2 = collections.deque()\n",
    "\n",
    "    def push(self, x: int) -> None:\n",
    "        self.q2.append(x)\n",
    "        while self.q1:\n",
    "            self.q2.append(self.q1.popleft())\n",
    "        self.q1, self.q2 = self.q2, self.q1\n",
    "\n",
    "    def pop(self) -> int:\n",
    "        return self.q1.popleft()\n",
    "\n",
    "    def top(self) -> int:\n",
    "        return self.q1[0]\n",
    "\n",
    "    def empty(self) -> bool:\n",
    "        return not self.q1"
   ]
  },
  {
   "cell_type": "markdown",
   "id": "4d542db6",
   "metadata": {},
   "source": [
    "```\n",
    "# 예시\n",
    "s = MyStack()\n",
    "s.push(1)\n",
    "s.push(2)\n",
    "print(s.top())   # 2\n",
    "print(s.pop())   # 2\n",
    "print(s.empty()) # False\n",
    "```"
   ]
  },
  {
   "cell_type": "markdown",
   "id": "76bb8948",
   "metadata": {},
   "source": [
    "# 2. LeetCode 232. Implement Queue using Stacks"
   ]
  },
  {
   "cell_type": "code",
   "execution_count": null,
   "id": "756b88b1",
   "metadata": {},
   "outputs": [],
   "source": [
    "class MyQueue:\n",
    "    def __init__(self):\n",
    "        self.stack1 = []\n",
    "        self.stack2 = []\n",
    "\n",
    "    def push(self, x: int) -> None:\n",
    "        self.stack1.append(x)\n",
    "\n",
    "    def pop(self) -> int:\n",
    "        self.peek()\n",
    "        return self.stack2.pop()\n",
    "\n",
    "    def peek(self) -> int:\n",
    "        if not self.stack2:\n",
    "            while self.stack1:\n",
    "                self.stack2.append(self.stack1.pop())\n",
    "        return self.stack2[-1]\n",
    "\n",
    "    def empty(self) -> bool:\n",
    "        return not self.stack1 and not self.stack2"
   ]
  },
  {
   "cell_type": "markdown",
   "id": "e4504a80",
   "metadata": {},
   "source": [
    "```\n",
    "# 예시\n",
    "q = MyQueue()\n",
    "q.push(1)\n",
    "q.push(2)\n",
    "print(q.peek())  # 1\n",
    "print(q.pop())   # 1\n",
    "print(q.empty()) # False\n",
    "```"
   ]
  },
  {
   "cell_type": "markdown",
   "id": "c5b75d7d",
   "metadata": {},
   "source": [
    "# 3. 교재 큐 연습문제"
   ]
  },
  {
   "cell_type": "markdown",
   "id": "3925050e",
   "metadata": {},
   "source": [
    "## 문제 1"
   ]
  },
  {
   "cell_type": "code",
   "execution_count": null,
   "id": "f850a512",
   "metadata": {},
   "outputs": [],
   "source": [
    "class ListQueue:\n",
    "    def __init__(self):\n",
    "        self.queue = []\n",
    "\n",
    "    def enqueue(self, item):\n",
    "        self.queue.append(item)\n",
    "\n",
    "    def dequeue(self):\n",
    "        if not self.isEmpty():\n",
    "            return self.queue.pop(0)\n",
    "        return None\n",
    "\n",
    "    def isEmpty(self):\n",
    "        return len(self.queue) == 0\n",
    "\n",
    "    def front(self):\n",
    "        if not self.isEmpty():\n",
    "            return self.queue[0]\n",
    "        return None"
   ]
  },
  {
   "cell_type": "markdown",
   "id": "26db3ab5",
   "metadata": {},
   "source": [
    "```\n",
    "# 예시\n",
    "q = ListQueue()\n",
    "q.enqueue(10)\n",
    "q.enqueue(20)\n",
    "print(q.front())  # 10\n",
    "print(q.dequeue()) # 10\n",
    "```"
   ]
  },
  {
   "cell_type": "markdown",
   "id": "55807dcb",
   "metadata": {},
   "source": [
    "## 문제 2"
   ]
  },
  {
   "cell_type": "code",
   "execution_count": null,
   "id": "8bed3620",
   "metadata": {},
   "outputs": [],
   "source": [
    "from collections import deque\n",
    "\n",
    "def is_member_with_queue(string, charset):\n",
    "    q = deque(string)\n",
    "    while q:\n",
    "        ch = q.popleft()\n",
    "        if ch not in charset:\n",
    "            return False\n",
    "    return True"
   ]
  },
  {
   "cell_type": "markdown",
   "id": "c17f5470",
   "metadata": {},
   "source": [
    "```\n",
    "# 예시\n",
    "charset = {'w', 's'}\n",
    "print(is_member_with_queue(\"wsw\", charset))  # True\n",
    "print(is_member_with_queue(\"wiw\", charset))  # False\n",
    "```"
   ]
  },
  {
   "cell_type": "markdown",
   "id": "7cbea23a",
   "metadata": {},
   "source": [
    "## 문제 3"
   ]
  },
  {
   "cell_type": "code",
   "execution_count": null,
   "id": "de3eb6d3",
   "metadata": {},
   "outputs": [],
   "source": [
    "from collections import deque\n",
    "\n",
    "def copy_queue(original):\n",
    "    new_q = deque()\n",
    "    for item in original:\n",
    "        new_q.append(item)\n",
    "    return new_q"
   ]
  },
  {
   "cell_type": "markdown",
   "id": "55f2c3bd",
   "metadata": {},
   "source": [
    "```\n",
    "# 예시\n",
    "a = deque([1, 2, 3])\n",
    "b = copy_queue(a)\n",
    "print(\"a:\", list(a))  # [1, 2, 3]\n",
    "print(\"b:\", list(b))  # [1, 2, 3]\n",
    "```"
   ]
  },
  {
   "cell_type": "markdown",
   "id": "67248320",
   "metadata": {},
   "source": [
    "## 문제 4"
   ]
  },
  {
   "cell_type": "code",
   "execution_count": null,
   "id": "156194ff",
   "metadata": {},
   "outputs": [],
   "source": [
    "class StackWithQueues:\n",
    "    def __init__(self):\n",
    "        self.q1 = deque()\n",
    "        self.q2 = deque()\n",
    "\n",
    "    def push(self, item):\n",
    "        self.q2.append(item)\n",
    "        while self.q1:\n",
    "            self.q2.append(self.q1.popleft())\n",
    "        self.q1, self.q2 = self.q2, self.q1\n",
    "\n",
    "    def pop(self):\n",
    "        if self.q1:\n",
    "            return self.q1.popleft()\n",
    "        return None"
   ]
  },
  {
   "cell_type": "markdown",
   "id": "09aca0c0",
   "metadata": {},
   "source": [
    "```\n",
    "# 예시\n",
    "s = StackWithQueues()\n",
    "s.push(1)\n",
    "s.push(2)\n",
    "print(s.pop())  # 2\n",
    "```"
   ]
  },
  {
   "cell_type": "markdown",
   "id": "bf8641fa",
   "metadata": {},
   "source": [
    "## 문제 5"
   ]
  },
  {
   "cell_type": "code",
   "execution_count": null,
   "id": "9859672d",
   "metadata": {},
   "outputs": [],
   "source": [
    "class QueueWithStacks:\n",
    "    def __init__(self):\n",
    "        self.stack1 = []\n",
    "        self.stack2 = []\n",
    "\n",
    "    def enqueue(self, item):\n",
    "        self.stack1.append(item)\n",
    "\n",
    "    def dequeue(self):\n",
    "        if not self.stack2:\n",
    "            while self.stack1:\n",
    "                self.stack2.append(self.stack1.pop())\n",
    "        if self.stack2:\n",
    "            return self.stack2.pop()\n",
    "        return None"
   ]
  },
  {
   "cell_type": "markdown",
   "id": "edd52b51",
   "metadata": {},
   "source": [
    "```\n",
    "# 예시\n",
    "q = QueueWithStacks()\n",
    "q.enqueue(1)\n",
    "q.enqueue(2)\n",
    "print(q.dequeue())  # 1\n",
    "```"
   ]
  },
  {
   "cell_type": "markdown",
   "id": "b12eb715",
   "metadata": {},
   "source": [
    "## 문제 6"
   ]
  },
  {
   "cell_type": "markdown",
   "id": "0e6cd1cd",
   "metadata": {},
   "source": [
    "리스트로 구현된 큐의 단점은 front를 삭제할 때 모든 요소를 한 칸씩 앞으로 옮겨야 하므로 O(n)의 시간 복잡도를 가진다는 점이다.  
반면, 연결 리스트로 구현된 큐는 삽입과 삭제 연산이 O(1)로 수행되어 효율적이다."
   ]
  },
  {
   "cell_type": "markdown",
   "id": "09258da8",
   "metadata": {},
   "source": [
    "## 문제 7"
   ]
  },
  {
   "cell_type": "markdown",
   "id": "70de79cd",
   "metadata": {},
   "source": [
    "리스트 기반 큐는 미리 정해진 크기로 초기화하면, 큐가 포화 상태가 될 수 있다.  
이를 해결하려면 **리스트를 원형 큐**로 만들어서 **앞과 뒤를 연결**해주는 방식으로 구현하거나, **동적 리스트**를 사용할 수 있다."
   ]
  },
  {
   "cell_type": "markdown",
   "id": "cc715ab0",
   "metadata": {},
   "source": [
    "## 문제 8"
   ]
  },
  {
   "cell_type": "code",
   "execution_count": null,
   "id": "f20a443f",
   "metadata": {},
   "outputs": [],
   "source": [
    "class Deque:\n",
    "    def __init__(self):\n",
    "        self.queue = []\n",
    "\n",
    "    def enqueueFront(self, item):\n",
    "        self.queue.insert(0, item)\n",
    "\n",
    "    def enqueueRear(self, item):\n",
    "        self.queue.append(item)\n",
    "\n",
    "    def dequeueFront(self):\n",
    "        if self.queue:\n",
    "            return self.queue.pop(0)\n",
    "\n",
    "    def dequeueRear(self):\n",
    "        if self.queue:\n",
    "            return self.queue.pop()\n",
    "\n",
    "    def printQueue(self):\n",
    "        print(\"Queue from front:\", ' '.join(map(str, self.queue)))"
   ]
  },
  {
   "cell_type": "markdown",
   "id": "9712ef18",
   "metadata": {},
   "source": [
    "```\n",
    "# 예시\n",
    "d = Deque()\n",
    "d.enqueueRear(1)\n",
    "d.enqueueFront(2)\n",
    "d.enqueueRear(3)\n",
    "d.printQueue()  # Queue from front: 2 1 3\n",
    "print(\"Front:\", d.dequeueFront())  # 2\n",
    "print(\"Rear:\", d.dequeueRear())    # 3\n",
    "```"
   ]
  }
 ],
 "metadata": {},
 "nbformat": 4,
 "nbformat_minor": 5
}
